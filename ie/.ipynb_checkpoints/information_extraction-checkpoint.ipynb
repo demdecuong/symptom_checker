{
 "cells": [
  {
   "cell_type": "code",
   "execution_count": 3,
   "metadata": {},
   "outputs": [
    {
     "name": "stdout",
     "output_type": "stream",
     "text": [
      "696\n"
     ]
    }
   ],
   "source": [
    "import pandas as pd\n",
    "\n",
    "data = pd.read_csv('../data/diseases.csv')\n",
    "print(len(data))"
   ]
  },
  {
   "cell_type": "code",
   "execution_count": 14,
   "metadata": {},
   "outputs": [
    {
     "data": {
      "text/plain": [
       "65"
      ]
     },
     "execution_count": 14,
     "metadata": {},
     "output_type": "execute_result"
    }
   ],
   "source": [
    "risk_factor = data['risk_factor']\n",
    "risk_factor.count() # 65 non-Nan value"
   ]
  },
  {
   "cell_type": "code",
   "execution_count": 15,
   "metadata": {},
   "outputs": [
    {
     "data": {
      "text/plain": [
       "696"
      ]
     },
     "execution_count": 15,
     "metadata": {},
     "output_type": "execute_result"
    }
   ],
   "source": [
    "symptom = data['symptom']\n",
    "symptom.count()"
   ]
  },
  {
   "cell_type": "code",
   "execution_count": null,
   "metadata": {},
   "outputs": [],
   "source": [
    "from typing import List\n",
    "\n",
    "class NER:\n",
    "    ''' Entity Extraction module\n",
    "    '''\n",
    "    def __init__(self):\n",
    "        pass\n",
    "    \n",
    "    def get_entites(self,text:str,method='rule') -> List:\n",
    "        assert method in ['rule','deep']\n",
    "        if method == 'rule':\n",
    "        \n",
    "        if method == 'deep':\n",
    "            pass\n",
    "class RE:\n",
    "    ''' Relation Extraction module\n",
    "        Map entites into existed relation in KB\n",
    "    '''\n",
    "    def __init__(self):\n",
    "        pass\n",
    "\n",
    "class IESsytem:\n",
    "    ''' Information Extraction module\n",
    "    '''\n",
    "    def __init__(self):\n",
    "        self.ner = NER()\n",
    "        self.re = RE()\n",
    "    \n",
    "    def get_triplets(self,text:str) -> List:\n",
    "\n",
    "        "
   ]
  }
 ],
 "metadata": {
  "kernelspec": {
   "display_name": "Python 3",
   "language": "python",
   "name": "python3"
  },
  "language_info": {
   "codemirror_mode": {
    "name": "ipython",
    "version": 3
   },
   "file_extension": ".py",
   "mimetype": "text/x-python",
   "name": "python",
   "nbconvert_exporter": "python",
   "pygments_lexer": "ipython3",
   "version": "3.8.3"
  }
 },
 "nbformat": 4,
 "nbformat_minor": 4
}
