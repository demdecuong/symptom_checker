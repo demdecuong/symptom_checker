{
 "cells": [
  {
   "cell_type": "code",
   "execution_count": 1,
   "metadata": {},
   "outputs": [
    {
     "name": "stdout",
     "output_type": "stream",
     "text": [
      "696\n"
     ]
    }
   ],
   "source": [
    "import pandas as pd\n",
    "\n",
    "data = pd.read_csv('../data/diseases.csv')\n",
    "print(len(data))"
   ]
  },
  {
   "cell_type": "markdown",
   "metadata": {},
   "source": [
    "## Investigate data"
   ]
  },
  {
   "cell_type": "code",
   "execution_count": 2,
   "metadata": {},
   "outputs": [],
   "source": [
    "risk_factor = data.loc[data['risk_factor'].notnull()]['risk_factor'].tolist()\n",
    "# risk_factor.count() # 65 non-Nan value"
   ]
  },
  {
   "cell_type": "code",
   "execution_count": 3,
   "metadata": {},
   "outputs": [
    {
     "data": {
      "text/plain": [
       "['Thiểu năng tuần hoàn não do các nguyên nhân như xơ vữa động mạch (gây ra do huyết áp cao, mỡ máu cao, đái tháo đường, hút thuốc lá), bệnh tim (hẹp van tim, suy tim), huyết áp thấp. \\n\\nBệnh thường gặp ở những người trung niên, đặc biệt những người lao động trí óc. Bệnh ngày càng có xu hướng trẻ hóa do áp lực lớn từ công việc, cuộc sống cùng với thói quen ăn uống sinh hoạt không lành mạnh như lạm dụng bia, rượu, thuốc lá...',\n",
       " 'Bất kỳ ai cũng có thể bị nhiễm HIV/AIDS nếu nằm trong đường lây truyền. Những người có nguy cơ cao bị mắc bệnh AIDS như:\\n\\n- Quan hệ tình dục không an toàn, có nghĩa là giao hợp âm đạo hoặc hậu môn hoặc giao hợp bằng miệng mà không dùng bao cao su với một người bị nhiễm HIV;\\n- Sử dụng chung kim tiêm để tiêm thuốc hoặc steroid với người bị nhiễm bệnh. Ngoài ra, bệnh cũng có thể lây qua kim tiêm bẩn được sử dụng để xăm hình hoặc xỏ lỗ trên cơ thể;\\n- Bị truyền máu từ một người nhiễm bệnh HIV/AIDS.\\n- Một em bé cũng có thể bị nhiễm HIV từ sữa mẹ nếu người phụ nữ nhiễm bệnh.',\n",
       " 'Bất kỳ ai cũng có thể mắc bệnh cúm, bệnh dễ gặp nhất ở những đối tượng có hệ miễn dịch chưa hoàn thiện hoặc sức đề kháng yếu như:\\n- **Trẻ sơ sinh:** Trẻ sơ sinh dưới 6 tháng tuổi chưa được tiêm vắc xin cúm nên có nguy cơ nhiễm cúm rất cao. Đối với những em bé sinh non (dưới 32 tuần tuổi) kèm theo những nguy cơ về sức khỏe có khả năng mắc cúm cao hơn và diễn biến nặng nề hơn.\\n- **Trẻ em:** Trẻ em, đặc biệt là trẻ dưới 2 tuổi có hệ miễn dịch chưa hoàn thiện là đối tượng có nguy cơ cao mắc các bệnh truyền nhiễm, trong đó có cúm mùa. Với những trẻ mắc bệnh lý nền như suyễn, rối loạn chuyển hóa, bệnh tim bẩm sinh, bệnh gan – thận… thì nguy cơ mắc cúm và biến chứng đặc biệt cao, do đó trẻ em luôn là đối tượng được khuyến cáo tiêm vắc xin cúm đầy đủ và tiêm nhắc lại mỗi năm một lần.\\n- **Người lớn >65 tuổi;** Những người có bệnh nền mãn tính như: tiểu đường, tim phổi, suy thận hoặc suy gan, suy giảm miễn dịch,…;\\n- **Phụ nữ mang thai hoặc đang cho con bú:** Khi mang thai, cơ thể người phụ nữ có nhiều sự thay đổi, nội tiết tố thay đổi, hệ miễn dịch yếu hơn khiến cho sức đề kháng của họ suy giảm. Điều này khiến cơ thể bà bầu nhạy cảm hơn và dễ bị tấn công bởi các tác nhân gây bệnh. Tương tự, trải qua quá trình sinh nở, người phụ nữ bị suy giảm sức khỏe thể chất cũng như sức đề kháng, tạo điều kiện cho virus cúm dễ dàng tấn công']"
      ]
     },
     "execution_count": 3,
     "metadata": {},
     "output_type": "execute_result"
    }
   ],
   "source": [
    "risk_factor[:3]"
   ]
  },
  {
   "cell_type": "code",
   "execution_count": 13,
   "metadata": {},
   "outputs": [
    {
     "data": {
      "text/plain": [
       "['',\n",
       " 'Bất kỳ ai cũng có thể bị nhiễm HIV/AIDS nếu nằm trong đường lây truyền. Những người có nguy cơ cao bị mắc bệnh AIDS như:',\n",
       " '',\n",
       " '- Quan hệ tình dục không an toàn, có nghĩa là giao hợp âm đạo hoặc hậu môn hoặc giao hợp bằng miệng mà không dùng bao cao su với một người bị nhiễm HIV;',\n",
       " '- Sử dụng chung kim tiêm để tiêm thuốc hoặc steroid với người bị nhiễm bệnh. Ngoài ra, bệnh cũng có thể lây qua kim tiêm bẩn được sử dụng để xăm hình hoặc xỏ lỗ trên cơ thể;',\n",
       " '- Bị truyền máu từ một người nhiễm bệnh HIV/AIDS.',\n",
       " '- Một em bé cũng có thể bị nhiễm HIV từ sữa mẹ nếu người phụ nữ nhiễm bệnh.',\n",
       " '']"
      ]
     },
     "execution_count": 13,
     "metadata": {},
     "output_type": "execute_result"
    }
   ],
   "source": [
    "text = '''\n",
    "Bất kỳ ai cũng có thể bị nhiễm HIV/AIDS nếu nằm trong đường lây truyền. Những người có nguy cơ cao bị mắc bệnh AIDS như:\\n\\n- Quan hệ tình dục không an toàn, có nghĩa là giao hợp âm đạo hoặc hậu môn hoặc giao hợp bằng miệng mà không dùng bao cao su với một người bị nhiễm HIV;\\n- Sử dụng chung kim tiêm để tiêm thuốc hoặc steroid với người bị nhiễm bệnh. Ngoài ra, bệnh cũng có thể lây qua kim tiêm bẩn được sử dụng để xăm hình hoặc xỏ lỗ trên cơ thể;\\n- Bị truyền máu từ một người nhiễm bệnh HIV/AIDS.\\n- Một em bé cũng có thể bị nhiễm HIV từ sữa mẹ nếu người phụ nữ nhiễm bệnh.\n",
    "'''\n",
    "text = text.split('\\n')\n",
    "text"
   ]
  },
  {
   "cell_type": "code",
   "execution_count": null,
   "metadata": {},
   "outputs": [],
   "source": [
    "text = '''\n",
    "Thiểu năng tuần hoàn não do các nguyên nhân như xơ vữa động mạch (gây ra do huyết áp cao, mỡ máu cao, đái tháo đường, hút thuốc lá), bệnh tim (hẹp van tim, suy tim), huyết áp thấp. \\n\\nBệnh thường gặp ở những người trung niên, đặc biệt những người lao động trí óc. Bệnh ngày càng có xu hướng trẻ hóa do áp lực lớn từ công việc, cuộc sống cùng với thói quen ăn uống sinh hoạt không lành mạnh như lạm dụng bia, rượu, thuốc lá...\n",
    "'''\n",
    "text = text.split('\\n')\n",
    "text"
   ]
  },
  {
   "cell_type": "code",
   "execution_count": 62,
   "metadata": {},
   "outputs": [],
   "source": [
    "import string\n",
    "import re\n",
    "from typing import List\n",
    "\n",
    "PATTERNS = [\n",
    "    \"\\*\\*(.*?)\\*\\*\",\n",
    "    \"(.*?)(\\,|\\.)\"\n",
    "]\n",
    "\n",
    "class NER:\n",
    "    ''' Entity Extraction module\n",
    "    '''\n",
    "    def __init__(self):\n",
    "        self.patterns = PATTERNS \n",
    "\n",
    "    @staticmethod\n",
    "    def is_format_1(sent:str) -> bool:\n",
    "        # như: belongs to the end of the sentence\n",
    "        if 'như:' in sent and text.find('như') > len(sent)//2:\n",
    "            return True\n",
    "        return False\n",
    "        \n",
    "    def get_entites(self,text:str,method='rule') -> List:\n",
    "        assert method in ['rule','deep']\n",
    "        if method == 'rule':\n",
    "            entities = self.get_entities_rule_base(text)\n",
    "            \n",
    "        if method == 'deep':\n",
    "            pass\n",
    "        \n",
    "        return entities\n",
    "\n",
    "    def get_entities_rule_base(self,sentences:str) -> List[str]:\n",
    "        ''' Return list of entities\n",
    "        '''\n",
    "        sentences = sentences.split('\\n')\n",
    "        # get potential sentences\n",
    "        potential_sentences = self.get_potential_sentences(sentences)\n",
    "        \n",
    "        # extract entities from potential sentences\n",
    "        entites = self.get_entites_from_potential_sentences(potential_sentences)\n",
    "        \n",
    "        # Normalizing entites\n",
    "        entites = self.post_normalize_entities(entites)\n",
    "        \n",
    "        return entites\n",
    "    \n",
    "    def post_normalize_entities(self,entities) -> List[str]:\n",
    "        result = []\n",
    "        for ent in entities:\n",
    "            e = ent.translate(str.maketrans('', '', string.punctuation)).strip()\n",
    "            result.append(e)\n",
    "        return result\n",
    "\n",
    "    def get_entites_from_potential_sentences(self,pot_sentences:List[str]) -> List[str]:\n",
    "        ''' Return list of entities from potential sentences\n",
    "        '''\n",
    "        entities = []\n",
    "        for sent in pot_sentences:\n",
    "            is_selected = False\n",
    "            for pattern in self.patterns:\n",
    "                # has been accpeted by other patterns\n",
    "                if is_selected:\n",
    "                    break\n",
    "                try:\n",
    "                    e = re.search(pattern, sent).group(1)\n",
    "                    entities.append(e)\n",
    "                    is_selected=True\n",
    "                except:\n",
    "                    continue\n",
    "        return entities\n",
    "    \n",
    "    def get_potential_sentences(self,sentences:str) -> List[str]:\n",
    "        ''' Return list of sentences that potentially contain risk_factor entities\n",
    "        '''\n",
    "        result = []\n",
    "        is_first_format = False\n",
    "        \n",
    "        for sent in sentences:\n",
    "            if sent == '':\n",
    "                continue\n",
    "\n",
    "            if is_first_format:\n",
    "                result.append(sent)\n",
    "                \n",
    "            if self.is_format_1(sent):\n",
    "                is_first_format = True\n",
    "                continue\n",
    "                \n",
    "        return result\n",
    "   "
   ]
  },
  {
   "cell_type": "code",
   "execution_count": 63,
   "metadata": {},
   "outputs": [
    {
     "name": "stdout",
     "output_type": "stream",
     "text": [
      "['Trẻ sơ sinh', ' Trẻ sơ sinh Trẻ sơ sinh dưới 6 tháng tuổi chưa được tiêm vắc xin cúm nên có nguy cơ nhiễm cúm rất cao', 'Trẻ em', ' Trẻ em Trẻ em', 'Người lớn 65 tuổi', ' Người lớn 65 tuổi Những người có bệnh nền mãn tính như tiểu đường', 'Phụ nữ mang thai hoặc đang cho con bú', ' Phụ nữ mang thai hoặc đang cho con bú Khi mang thai']\n"
     ]
    }
   ],
   "source": [
    "ner = NER()\n",
    "text = risk_factor[2]\n",
    "entites = ner.get_entites(text,method='rule')\n",
    "print(entites)"
   ]
  },
  {
   "cell_type": "code",
   "execution_count": 64,
   "metadata": {},
   "outputs": [
    {
     "name": "stdout",
     "output_type": "stream",
     "text": [
      "56\n"
     ]
    }
   ],
   "source": [
    "rf_entites = []\n",
    "\n",
    "for sent in risk_factor:\n",
    "    e = ner.get_entites(sent,method='rule')\n",
    "    if e != []:\n",
    "        rf_entites.extend(e)\n",
    "print(len(rf_entites))"
   ]
  },
  {
   "cell_type": "code",
   "execution_count": 61,
   "metadata": {},
   "outputs": [
    {
     "data": {
      "text/plain": [
       "['Trẻ sơ sinh',\n",
       " 'Trẻ em',\n",
       " 'Người lớn 65 tuổi',\n",
       " 'Phụ nữ mang thai hoặc đang cho con bú',\n",
       " 'Các yếu tố nguy cơ khác']"
      ]
     },
     "execution_count": 61,
     "metadata": {},
     "output_type": "execute_result"
    }
   ],
   "source": [
    "rf_entites"
   ]
  },
  {
   "cell_type": "code",
   "execution_count": null,
   "metadata": {},
   "outputs": [],
   "source": [
    "\n",
    "    \n",
    "class RE:\n",
    "    ''' Relation Extraction module\n",
    "        Map entites into existed relation in KB\n",
    "    '''\n",
    "    def __init__(self):\n",
    "        pass\n",
    "\n",
    "class IESsytem:\n",
    "    ''' Information Extraction module\n",
    "    '''\n",
    "    def __init__(self):\n",
    "        self.ner = NER()\n",
    "        self.re = RE()\n",
    "    \n",
    "    def get_triplets(self,text:str) -> List:\n",
    "\n",
    "        "
   ]
  }
 ],
 "metadata": {
  "kernelspec": {
   "display_name": "Python 3 (ipykernel)",
   "language": "python",
   "name": "python3"
  },
  "language_info": {
   "codemirror_mode": {
    "name": "ipython",
    "version": 3
   },
   "file_extension": ".py",
   "mimetype": "text/x-python",
   "name": "python",
   "nbconvert_exporter": "python",
   "pygments_lexer": "ipython3",
   "version": "3.9.7"
  }
 },
 "nbformat": 4,
 "nbformat_minor": 4
}
