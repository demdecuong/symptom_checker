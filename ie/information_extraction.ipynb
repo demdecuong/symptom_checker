{
 "cells": [
  {
   "cell_type": "code",
   "execution_count": 145,
   "metadata": {},
   "outputs": [
    {
     "name": "stdout",
     "output_type": "stream",
     "text": [
      "696\n"
     ]
    }
   ],
   "source": [
    "import pandas as pd\n",
    "\n",
    "data = pd.read_csv('../data/diseases.csv')\n",
    "print(len(data))"
   ]
  },
  {
   "cell_type": "markdown",
   "metadata": {},
   "source": [
    "## Investigate data"
   ]
  },
  {
   "cell_type": "code",
   "execution_count": 146,
   "metadata": {},
   "outputs": [],
   "source": [
    "risk_factor = data.loc[data['risk_factor'].notnull()]['risk_factor'].tolist()\n",
    "symptom_data = data.loc[data['symptom'].notnull()]['symptom'].tolist()\n",
    "# risk_factor.count() # 65 non-Nan value"
   ]
  },
  {
   "cell_type": "code",
   "execution_count": 147,
   "metadata": {},
   "outputs": [
    {
     "data": {
      "text/plain": [
       "['Thiểu năng tuần hoàn não do các nguyên nhân như xơ vữa động mạch (gây ra do huyết áp cao, mỡ máu cao, đái tháo đường, hút thuốc lá), bệnh tim (hẹp van tim, suy tim), huyết áp thấp. \\n\\nBệnh thường gặp ở những người trung niên, đặc biệt những người lao động trí óc. Bệnh ngày càng có xu hướng trẻ hóa do áp lực lớn từ công việc, cuộc sống cùng với thói quen ăn uống sinh hoạt không lành mạnh như lạm dụng bia, rượu, thuốc lá...',\n",
       " 'Bất kỳ ai cũng có thể bị nhiễm HIV/AIDS nếu nằm trong đường lây truyền. Những người có nguy cơ cao bị mắc bệnh AIDS như:\\n\\n- Quan hệ tình dục không an toàn, có nghĩa là giao hợp âm đạo hoặc hậu môn hoặc giao hợp bằng miệng mà không dùng bao cao su với một người bị nhiễm HIV;\\n- Sử dụng chung kim tiêm để tiêm thuốc hoặc steroid với người bị nhiễm bệnh. Ngoài ra, bệnh cũng có thể lây qua kim tiêm bẩn được sử dụng để xăm hình hoặc xỏ lỗ trên cơ thể;\\n- Bị truyền máu từ một người nhiễm bệnh HIV/AIDS.\\n- Một em bé cũng có thể bị nhiễm HIV từ sữa mẹ nếu người phụ nữ nhiễm bệnh.',\n",
       " 'Bất kỳ ai cũng có thể mắc bệnh cúm, bệnh dễ gặp nhất ở những đối tượng có hệ miễn dịch chưa hoàn thiện hoặc sức đề kháng yếu như:\\n- **Trẻ sơ sinh:** Trẻ sơ sinh dưới 6 tháng tuổi chưa được tiêm vắc xin cúm nên có nguy cơ nhiễm cúm rất cao. Đối với những em bé sinh non (dưới 32 tuần tuổi) kèm theo những nguy cơ về sức khỏe có khả năng mắc cúm cao hơn và diễn biến nặng nề hơn.\\n- **Trẻ em:** Trẻ em, đặc biệt là trẻ dưới 2 tuổi có hệ miễn dịch chưa hoàn thiện là đối tượng có nguy cơ cao mắc các bệnh truyền nhiễm, trong đó có cúm mùa. Với những trẻ mắc bệnh lý nền như suyễn, rối loạn chuyển hóa, bệnh tim bẩm sinh, bệnh gan – thận… thì nguy cơ mắc cúm và biến chứng đặc biệt cao, do đó trẻ em luôn là đối tượng được khuyến cáo tiêm vắc xin cúm đầy đủ và tiêm nhắc lại mỗi năm một lần.\\n- **Người lớn >65 tuổi;** Những người có bệnh nền mãn tính như: tiểu đường, tim phổi, suy thận hoặc suy gan, suy giảm miễn dịch,…;\\n- **Phụ nữ mang thai hoặc đang cho con bú:** Khi mang thai, cơ thể người phụ nữ có nhiều sự thay đổi, nội tiết tố thay đổi, hệ miễn dịch yếu hơn khiến cho sức đề kháng của họ suy giảm. Điều này khiến cơ thể bà bầu nhạy cảm hơn và dễ bị tấn công bởi các tác nhân gây bệnh. Tương tự, trải qua quá trình sinh nở, người phụ nữ bị suy giảm sức khỏe thể chất cũng như sức đề kháng, tạo điều kiện cho virus cúm dễ dàng tấn công']"
      ]
     },
     "execution_count": 147,
     "metadata": {},
     "output_type": "execute_result"
    }
   ],
   "source": [
    "risk_factor[:3]"
   ]
  },
  {
   "cell_type": "code",
   "execution_count": 203,
   "metadata": {},
   "outputs": [],
   "source": [
    "import string\n",
    "import re\n",
    "from typing import List, Dict\n",
    "\n",
    "PATTERNS = [\n",
    "    \"\\*\\*(.*?)\\*\\*\",\n",
    "    \"(.*?)(\\,|\\.|\\()\"\n",
    "]\n",
    "\n",
    "EXTEND_ENTITES = [\n",
    "    \"thanh thiếu niên\",\n",
    "    \"mọi lứa tuổi\",\n",
    "    \"thiếu niên\",\n",
    "    \"thanh niên\",\n",
    "    \"trung niên\",\n",
    "    \"lao động trí óc\",\n",
    "    \"huyết áp thấp\",\n",
    "    \"lao động chân tay\",\n",
    "    \"thừa cân\",\n",
    "    \"trẻ em\",\n",
    "    \"nam\",\n",
    "    \"nữ\",\n",
    "    \"tuổi\",\n",
    "    \"mang thai\"\n",
    "]\n",
    "\n",
    "class NER:\n",
    "    ''' Entity Extraction module\n",
    "    '''\n",
    "    def __init__(self):\n",
    "        self.patterns = PATTERNS \n",
    "        self.ex_entities = EXTEND_ENTITES\n",
    "        \n",
    "    @staticmethod\n",
    "    def is_format_1(sent:str) -> bool:\n",
    "        ''' Format has \":\" at the end of the sentence\n",
    "        '''\n",
    "        if 'như:' in sent and text.find('như') > len(sent)//2:\n",
    "            return True\n",
    "        if 'gồm:' in sent and text.find('gồm') > len(sent)//2:\n",
    "            return True\n",
    "        if ':' in sent:\n",
    "            return True\n",
    "        return False\n",
    "    \n",
    "    @staticmethod\n",
    "    def is_format_2(sent:str) -> bool:\n",
    "        ''' Format has \"-\" at the beginning of the sentnece\n",
    "        '''\n",
    "        if '-' in sent and sent.find('-') in list(range(0,5)):\n",
    "            return True\n",
    "        return False\n",
    "    \n",
    "    @staticmethod\n",
    "    def is_format_3(sent:str) -> bool:\n",
    "        ''' Format has \"gồm có:\" ...,....\n",
    "        '''\n",
    "        if \"gồm có:\" in sent:\n",
    "            return True\n",
    "        return False\n",
    "    \n",
    "    def is_format_4(self,sent:str) -> bool:\n",
    "        ''' Contains needed keywords\n",
    "        '''\n",
    "        for entity in self.ex_entities:\n",
    "            if sent.find(entity) != -1 or sent.find(entity.lower()) != -1:\n",
    "                return True\n",
    "        return False\n",
    "    \n",
    "    def get_entites(self,text:str,method='rule') -> List:\n",
    "        assert method in ['rule','deep']\n",
    "        if method == 'rule':\n",
    "            entities = self.get_entities_rule_base(text)\n",
    "            \n",
    "        if method == 'deep':\n",
    "            pass\n",
    "        \n",
    "        return entities\n",
    "\n",
    "    def get_entities_rule_base(self,sentences:str) -> List[str]:\n",
    "        ''' Return list of entities\n",
    "        '''\n",
    "        sentences = sentences.split('\\n')\n",
    "        # get potential sentences\n",
    "        potential_sentences = self.get_potential_sentences(sentences)\n",
    "        \n",
    "        # extract entities from potential sentences\n",
    "        entites = self.get_entites_from_potential_sentences(potential_sentences)\n",
    "        \n",
    "        # Normalizing entites\n",
    "        entites = self.post_normalize_entities(entites)\n",
    "        \n",
    "        return entites\n",
    "    \n",
    "    def post_normalize_entities(self,entities) -> List[str]:\n",
    "        result = []\n",
    "        for ent in entities:\n",
    "            e = ent.translate(str.maketrans('', '', string.punctuation)).strip()\n",
    "            result.append(e)\n",
    "        return result\n",
    "\n",
    "    def get_entites_from_potential_sentences(self,pot_sentences:List[str]) -> List[str]:\n",
    "        ''' Return list of entities from potential sentences\n",
    "        '''\n",
    "        entities = []\n",
    "        for sent in pot_sentences:\n",
    "            is_selected = False\n",
    "            for pattern in self.patterns:\n",
    "                # has been accpeted by other patterns\n",
    "                if is_selected:\n",
    "                    break\n",
    "                try:\n",
    "                    e = re.search(pattern, sent).group(1)\n",
    "                    entities.append(e)\n",
    "                    is_selected=True\n",
    "                except:\n",
    "                    continue\n",
    "                    \n",
    "            # still not extract anything. Use dict-based\n",
    "            if is_selected == False:\n",
    "                e = self.get_entities_dict_based(sent) \n",
    "                entities.extend(e)\n",
    "            else:\n",
    "                # update self.ex_entities\n",
    "                for e in entities:\n",
    "                    if e not in self.ex_entities:\n",
    "                        self.ex_entities.append(e)\n",
    "        \n",
    "        return entities\n",
    "    \n",
    "    def get_entities_dict_based(self,sent:str) -> List[str]:\n",
    "        result = []\n",
    "        for entity in self.ex_entities:\n",
    "            if sent.find(entity) != -1 or sent.find(entity.lower()) != -1:\n",
    "                result.append(entity)\n",
    "        return result\n",
    "    \n",
    "    def get_potential_sentences(self,sentences:str) -> List[str]:\n",
    "        ''' Return list of sentences that potentially contain risk_factor entities\n",
    "        '''\n",
    "        result = []\n",
    "        is_first_format = False\n",
    "\n",
    "        for sent in sentences:\n",
    "            if sent == '':\n",
    "                continue\n",
    "                \n",
    "            if is_first_format:\n",
    "                result.append(sent)\n",
    "            elif self.is_format_2(sent):\n",
    "                result.append(sent)\n",
    "            elif self.is_format_3(sent):\n",
    "                result.append(sent)\n",
    "            elif self.is_format_4(sent):\n",
    "                result.append(sent)\n",
    "                \n",
    "            if self.is_format_1(sent):\n",
    "                is_first_format = True\n",
    "                continue\n",
    "                \n",
    "        return result\n",
    "   "
   ]
  },
  {
   "cell_type": "code",
   "execution_count": 204,
   "metadata": {},
   "outputs": [
    {
     "name": "stdout",
     "output_type": "stream",
     "text": [
      "['Trẻ sơ sinh', 'Trẻ em', 'Người lớn 65 tuổi', 'Phụ nữ mang thai hoặc đang cho con bú']\n"
     ]
    }
   ],
   "source": [
    "ner = NER()\n",
    "text = risk_factor[2]\n",
    "entites = ner.get_entites(text,method='rule')\n",
    "print(entites)"
   ]
  },
  {
   "cell_type": "code",
   "execution_count": 205,
   "metadata": {},
   "outputs": [
    {
     "name": "stdout",
     "output_type": "stream",
     "text": [
      "271\n",
      "# cover cases: 64 / 65\n"
     ]
    }
   ],
   "source": [
    "rf_entites = []\n",
    "not_cover_cnt = 0\n",
    "failure_sentences = []\n",
    "\n",
    "for index, sent in enumerate(risk_factor):\n",
    "    entites = ner.get_entites(sent,method='rule')\n",
    "    if entites != []:\n",
    "        rf_entites.extend(entites)\n",
    "    else:\n",
    "        not_cover_cnt += 1\n",
    "        failure_sentences.append(sent)\n",
    "print(len(rf_entites))\n",
    "print(f\"# cover cases: {len(risk_factor) - not_cover_cnt} / {len(risk_factor)}\")"
   ]
  },
  {
   "cell_type": "code",
   "execution_count": 206,
   "metadata": {},
   "outputs": [
    {
     "data": {
      "text/plain": [
       "['Thiểu năng tuần hoàn não do các nguyên nhân như xơ vữa động mạch',\n",
       " 'Bệnh thường gặp ở những người trung niên',\n",
       " 'Quan hệ tình dục không an toàn',\n",
       " 'Sử dụng chung kim tiêm để tiêm thuốc hoặc steroid với người bị nhiễm bệnh',\n",
       " 'Bị truyền máu từ một người nhiễm bệnh HIVAIDS',\n",
       " 'Một em bé cũng có thể bị nhiễm HIV từ sữa mẹ nếu người phụ nữ nhiễm bệnh',\n",
       " 'Trẻ sơ sinh',\n",
       " 'Trẻ em',\n",
       " 'Người lớn 65 tuổi',\n",
       " 'Phụ nữ mang thai hoặc đang cho con bú']"
      ]
     },
     "execution_count": 206,
     "metadata": {},
     "output_type": "execute_result"
    }
   ],
   "source": [
    "rf_entites[:10]"
   ]
  },
  {
   "cell_type": "code",
   "execution_count": 207,
   "metadata": {},
   "outputs": [
    {
     "name": "stdout",
     "output_type": "stream",
     "text": [
      "9.822878228782288\n"
     ]
    }
   ],
   "source": [
    "entites_length = [len(item.split(' ')) for item in rf_entites]\n",
    "print(sum(entites_length)/len(entites_length))"
   ]
  },
  {
   "cell_type": "code",
   "execution_count": 208,
   "metadata": {},
   "outputs": [
    {
     "data": {
      "text/plain": [
       "0.9846153846153847"
      ]
     },
     "execution_count": 208,
     "metadata": {},
     "output_type": "execute_result"
    }
   ],
   "source": [
    "64/65"
   ]
  },
  {
   "cell_type": "markdown",
   "metadata": {},
   "source": [
    "### Investigate failure cases"
   ]
  },
  {
   "cell_type": "code",
   "execution_count": 209,
   "metadata": {},
   "outputs": [
    {
     "data": {
      "text/plain": [
       "['Đối tượng  có nguy cơ mắc bệnh phong cao nhất là những người sống ở khu vực có nhiều người mắc bệnh phong, có thể kể đến một số khu vực như một số địa phận thuộc Ấn Độ, Trung Quốc, Nhật Bản, Nepal, Ai Cập,...  đặc biệt là những người tiếp xúc thường xuyên với người nhiễm bệnh phong.\\n\\nMột số bệnh nhân có các khuyết tật di truyền trong hệ thống miễn dịch như là khuyết tật ở vùng Q25 trên nhiễm sắc thể 6 có khả năng năng cao bị nhiễm bệnh lý này\\n\\nNhững người thường xuyên xử lý một số động vật nhất định như armadillos, tinh tinh châu Phi, khỉ mặt xanh cổ trắng và khỉ đuôi dài, được biết có mang theo vi khuẩn phong do bị lây nhiễm vi khuẩn từ động vật, đặc biệt nếu họ không đeo găng tay bảo vệ khi xử lý các động vật này.']"
      ]
     },
     "execution_count": 209,
     "metadata": {},
     "output_type": "execute_result"
    }
   ],
   "source": [
    "failure_sentences[:5]"
   ]
  },
  {
   "cell_type": "markdown",
   "metadata": {},
   "source": [
    "### Extend entities dict "
   ]
  },
  {
   "cell_type": "code",
   "execution_count": 155,
   "metadata": {},
   "outputs": [
    {
     "name": "stdout",
     "output_type": "stream",
     "text": [
      "209\n"
     ]
    }
   ],
   "source": [
    "EXTEND_ENTITES = [\n",
    "    \"thanh thiếu niên\",\n",
    "    \"mọi lứa tuổi\",\n",
    "    \"thiếu niên\",\n",
    "    \"thanh niên\",\n",
    "    \"trung niên\",\n",
    "    \"lao động trí óc\",\n",
    "    \"huyết áp thấp\",\n",
    "    \"lao động chân tay\",\n",
    "    \"thừa cân\"\n",
    "]\n",
    "rf_entites.extend(EXTEND_ENTITES)\n",
    "print(len(rf_entites))"
   ]
  },
  {
   "cell_type": "code",
   "execution_count": 156,
   "metadata": {},
   "outputs": [],
   "source": [
    "cnt = 0\n",
    "tmp_ent = []\n",
    "ff_sent = []\n",
    "for text in failure_sentences:\n",
    "    is_found = False\n",
    "    for sent in text.split('\\n'):\n",
    "        for entity in rf_entites:\n",
    "            if sent.find(entity) != -1 or sent.find(entity.lower()) != -1:\n",
    "                is_found = True\n",
    "#                 print({sentence} --> {entity})\n",
    "                tmp_ent.append(entity)\n",
    "    if is_found:\n",
    "        cnt += 1\n",
    "    else:\n",
    "        ff_sent.append(text)"
   ]
  },
  {
   "cell_type": "code",
   "execution_count": 157,
   "metadata": {},
   "outputs": [
    {
     "name": "stdout",
     "output_type": "stream",
     "text": [
      "16 16\n",
      "['thiếu niên', 'Ăn uống', 'lao động chân tay', 'Thanh niên', 'Trẻ em', 'thừa cân', 'thanh niên', 'trung niên', 'huyết áp thấp', 'lao động trí óc']\n"
     ]
    }
   ],
   "source": [
    "tmp_ent = list(set(tmp_ent))\n",
    "print(len(tmp_ent), len(failure_sentences))\n",
    "print(tmp_ent[:10])"
   ]
  },
  {
   "cell_type": "markdown",
   "metadata": {},
   "source": [
    "### Entity Resolution\n",
    "\n",
    "Suported risk factor:\n",
    "- Age (trẻ em,thiếu niên,thanh niên,trung niên,cao tuổi)\n",
    "- Pregnant status (có/không)\n",
    "- Family History (todo:hard)\n",
    "- Personal History (todo:hard)"
   ]
  },
  {
   "cell_type": "code",
   "execution_count": 95,
   "metadata": {},
   "outputs": [
    {
     "name": "stdout",
     "output_type": "stream",
     "text": [
      "206\n"
     ]
    }
   ],
   "source": [
    "import copy\n",
    "\n",
    "rf_entities_copy = copy.deepcopy(rf_entites)\n",
    "rf_entities_copy = list(set(rf_entities))\n",
    "print(len(rf_entities_copy))"
   ]
  },
  {
   "cell_type": "code",
   "execution_count": 242,
   "metadata": {},
   "outputs": [],
   "source": [
    "from typing import Dict\n",
    "\n",
    "KEYWORDS = {\n",
    "    'age': [\"trẻ em\",\"thanh niên\",\"trung niên\",\"cao tuổi\",\"tuổi\",\"niên\"],\n",
    "    'pregnant':[\"mang thai\",\"nữ\"],\n",
    "    'family_history':[\"gia đình\"],\n",
    "    'personal_history':[\"tiền sử\"]\n",
    "}\n",
    "RESOLUTION_ENTITIES = {\n",
    "    \"age\" : {\n",
    "        \"trẻ em\" : [\"trẻ em\"], # 0 - 10\n",
    "        \"thiếu niên\" : [\"thiếu niên\"], # 11 - 18\n",
    "        \"thanh niên\" : [\"thanh niên\"], # 18 - 40\n",
    "        \"trung niên\" : [\"trung niên\"], # 40-65\n",
    "        \"cao tuổi\": [\"cao tuổi\",\"tuổi cao\", \"65 tuổi\"], # > 65\n",
    "        \"mọi lứa tuổi\": [\"mọi lứa tuổi\",'tuổi']\n",
    "    },\n",
    "    \"pregnant\" : {\n",
    "        \"phụ nữ mang thai\" : [\"mang thai\"],\n",
    "    }\n",
    "}\n",
    "class EntityResolution:\n",
    "    def __init__(self):\n",
    "        self.keywords = KEYWORDS\n",
    "        self.resolution_entites = RESOLUTION_ENTITIES\n",
    "    \n",
    "    def __call__(self,entities) -> List[Dict]:\n",
    "        ''' Return new list of dict entities has align to self.resolution_entites\n",
    "        '''    \n",
    "        result = []\n",
    "        \n",
    "        if type(entities) == list:\n",
    "            for ent in entities:\n",
    "                tmp = {}\n",
    "                for entity_type in list(self.resolution_entites.keys()):\n",
    "                    # Check whether given entity contains keyword\n",
    "                     if self.is_contains_entities(ent,entity_type=entity_type):\n",
    "                        \n",
    "                        # Get resolution entities align to entity_type\n",
    "                        united_entites = self.get_resolution_entities(ent,entity_type=entity_type)\n",
    "                        if united_entites != {}:\n",
    "                            tmp[entity_type] = united_entites\n",
    "                result.append(tmp)\n",
    "        else:\n",
    "            for entity_type in list(self.resolution_entites.keys()):\n",
    "                # Get resolution entities align to entity_type\n",
    "                united_entites = self.get_resolution_entities(entities,entity_type=entity_type)\n",
    "                if united_entites != {}:\n",
    "                    result[entity_type] = united_entites\n",
    "        \n",
    "        # filter empty {}\n",
    "        result = [item for item in result if item != {}]\n",
    "        \n",
    "        return result\n",
    "                \n",
    "    @staticmethod\n",
    "    def normalize_entity(entity) -> str:\n",
    "        entity = entity.lower()\n",
    "        return entity\n",
    "    \n",
    "    \n",
    "    def is_contains_entities(self,entity:str,entity_type:str='age') -> bool:\n",
    "        assert entity_type in list(self.keywords.keys())\n",
    "        \n",
    "        keywords = self.keywords[entity_type] # List\n",
    "        \n",
    "        for prf in keywords:\n",
    "            if entity.lower().find(prf) != -1:\n",
    "                return True\n",
    "        \n",
    "        return False\n",
    "    \n",
    "    def get_resolution_entities(self,entity:str,entity_type:str='age') -> List[str]:\n",
    "        assert entity_type in list(self.keywords.keys())\n",
    "\n",
    "        result = []\n",
    "        resolution_entities = self.resolution_entites[entity_type] # dict\n",
    "        \n",
    "        for k, v in resolution_entities.items():\n",
    "            for synonym in v:\n",
    "                if entity.lower().find(synonym) != -1:\n",
    "                    result.append(k)\n",
    "                    break\n",
    "        \n",
    "        return result\n",
    "    \n",
    "    def save(self) -> None:\n",
    "        ''' Save resolution entities into csv file align to input\n",
    "        '''\n",
    "        pass\n",
    "        # TODO\n",
    "        \n",
    "    "
   ]
  },
  {
   "cell_type": "code",
   "execution_count": 243,
   "metadata": {},
   "outputs": [],
   "source": [
    "entity_resolution = EntityResolution()\n",
    "resolution_rf_entities = entity_resolution(rf_entities)"
   ]
  },
  {
   "cell_type": "code",
   "execution_count": 244,
   "metadata": {},
   "outputs": [],
   "source": [
    "''' DATA\n",
    "'''\n",
    "import pandas as pd\n",
    "\n",
    "data = pd.read_csv('../data/diseases.csv')\n",
    "\n",
    "risk_factor = data.loc[data['risk_factor'].notnull()]['risk_factor'].tolist()"
   ]
  },
  {
   "cell_type": "code",
   "execution_count": 275,
   "metadata": {},
   "outputs": [
    {
     "name": "stdout",
     "output_type": "stream",
     "text": [
      "['0', '0', '0', '0', '0']\n"
     ]
    }
   ],
   "source": [
    "risk_factor = data['risk_factor'].tolist()\n",
    "risk_factor = [item if type(item) == str else '0' for item in risk_factor]\n",
    "print(risk_factor[:5])"
   ]
  },
  {
   "cell_type": "code",
   "execution_count": 287,
   "metadata": {},
   "outputs": [],
   "source": [
    "''' NER + ENTITY RESOLUTION\n",
    "'''\n",
    "import math\n",
    "\n",
    "risk_factor = data['risk_factor'].tolist()\n",
    "risk_factor = [item if type(item) == str else '0' for item in risk_factor]\n",
    "\n",
    "ner = NER()\n",
    "entity_resolution = EntityResolution()\n",
    "\n",
    "\n",
    "rf_entites = []\n",
    "not_cover_cnt = 0\n",
    "failure_sentences = []\n",
    "\n",
    "age_cnt = 0\n",
    "pregnant_cnt = 0\n",
    "\n",
    "for index, sent in enumerate(risk_factor):\n",
    "    if sent == '0':\n",
    "        rf_entites.append([])\n",
    "    else:\n",
    "        entites = ner.get_entites(sent,method='rule')\n",
    "        if entites != []:\n",
    "            entites = entity_resolution(entites)\n",
    "            if entites != []:\n",
    "                rf_entites.append(entites)\n",
    "                if 'age' in list(entites[0].keys()):\n",
    "                    age_cnt += 1\n",
    "                if 'pregnant' in list(entites[0].keys()):\n",
    "                    pregnant_cnt += 1\n",
    "            else:\n",
    "                rf_entites.append([])\n",
    "        else:\n",
    "            not_cover_cnt += 1\n",
    "            failure_sentences.append(sent)\n",
    "            rf_entites.append([])\n",
    "# print(len(rf_entites))\n",
    "# print(f\"# cover cases: {len(risk_factor) - not_cover_cnt} / {len(risk_factor)}\")"
   ]
  },
  {
   "cell_type": "code",
   "execution_count": 282,
   "metadata": {},
   "outputs": [
    {
     "name": "stdout",
     "output_type": "stream",
     "text": [
      "696 696\n"
     ]
    }
   ],
   "source": [
    "print(len(risk_factor),len(rf_entites))"
   ]
  },
  {
   "cell_type": "code",
   "execution_count": 288,
   "metadata": {},
   "outputs": [
    {
     "data": {
      "text/plain": [
       "(8, 32)"
      ]
     },
     "execution_count": 288,
     "metadata": {},
     "output_type": "execute_result"
    }
   ],
   "source": [
    "pregnant_cnt, age_cnt"
   ]
  },
  {
   "cell_type": "code",
   "execution_count": 283,
   "metadata": {},
   "outputs": [],
   "source": [
    "data['risk_factor_entity'] = rf_entites\n",
    "data.to_csv('../data/diseases_rf_entity.csv')"
   ]
  },
  {
   "cell_type": "code",
   "execution_count": null,
   "metadata": {},
   "outputs": [],
   "source": []
  },
  {
   "cell_type": "markdown",
   "metadata": {},
   "source": [
    "### Analysis/Debug of entity resolution"
   ]
  },
  {
   "cell_type": "code",
   "execution_count": 118,
   "metadata": {},
   "outputs": [],
   "source": [
    "'''\n",
    "Something that increases the chance of developing a disease\n",
    "age : [\"trẻ em\",\"thanh thiếu niên\",\"trung niên\"]\n",
    "a family history of certain cancers, \n",
    "use of tobacco products, \n",
    "being exposed to radiation or certain chemicals, \n",
    "infection with certain viruses or bacteria, \n",
    "and certain genetic changes.\n",
    "'''\n",
    "\n",
    "rf_entities_copy = copy.deepcopy(rf_entites)\n",
    "rf_entities_copy = list(set(rf_entities))\n",
    "\n",
    "\n",
    "# trẻ em: Dưới 16 tuổi. Vị thành niên: Từ đủ 16 tuổi đến dưới 18 tuổi. Thành niên: Từ đủ 18 tuổi trở lên.\n",
    "AGE_RF = [\n",
    "    \"trẻ em\", # 0 - 10\n",
    "    \"thiếu niên\", # 11 - 18\n",
    "    \"thanh niên\" # 18 - 40\n",
    "    \"trung niên\",# 40-65\n",
    "    \"cao tuổi\", # > 65\n",
    "    \"tuổi\",\n",
    "    \"niên\"\n",
    "]\n",
    "\n",
    "age_entities = []\n",
    "fh_entities = []\n",
    "ph_entities = []\n",
    "pregnant_entities = []\n",
    "\n",
    "# AGE\n",
    "for ent in rf_entities_copy:\n",
    "    for prf in AGE_RF:\n",
    "        if ent.lower().find(prf) != -1:\n",
    "            age_entities.append(ent)\n",
    "            try:\n",
    "                rf_entities_copy.remove(ent)\n",
    "            except:\n",
    "                pass\n",
    "            break\n",
    "\n",
    "# FAMILY HISTORY\n",
    "FH_RF = [\n",
    "    \"gia đình\",\n",
    "]\n",
    "for ent in rf_entites:\n",
    "    for prf in FH_RF:\n",
    "        if ent.lower().find(prf) != -1:\n",
    "            fh_entities.append(ent)\n",
    "            try:\n",
    "                rf_entities_copy.remove(ent)\n",
    "            except:\n",
    "                pass\n",
    "            break\n",
    "            \n",
    "# PERSONAL HISTORY\n",
    "PH_RF = [\n",
    "    \"tiền sử\"\n",
    "]\n",
    "for ent in rf_entites:\n",
    "    for prf in PH_RF:\n",
    "        if ent.lower().find(prf) != -1:\n",
    "            ph_entities.append(ent)\n",
    "            try:\n",
    "                rf_entities_copy.remove(ent)\n",
    "            except:\n",
    "                pass\n",
    "            break\n",
    "\n",
    "# SEX\n",
    "PREGNANT_RF = [\n",
    "    \"mang thai\",\n",
    "    \"nữ\"\n",
    "]\n",
    "for ent in rf_entites:\n",
    "    for prf in PREGNANT_RF:\n",
    "        if ent.lower().find(prf) != -1:\n",
    "            pregnant_entities.append(ent)\n",
    "            try:\n",
    "                rf_entities_copy.remove(ent)\n",
    "            except:\n",
    "                pass\n",
    "            break"
   ]
  },
  {
   "cell_type": "code",
   "execution_count": 119,
   "metadata": {},
   "outputs": [
    {
     "name": "stdout",
     "output_type": "stream",
     "text": [
      "21 9 11 12\n",
      "158\n"
     ]
    }
   ],
   "source": [
    "print(len(age_entities),len(fh_entities),len(ph_entities),len(sex_entities))\n",
    "print(len(rf_entities_copy)) # filtered"
   ]
  },
  {
   "cell_type": "code",
   "execution_count": 110,
   "metadata": {},
   "outputs": [
    {
     "name": "stdout",
     "output_type": "stream",
     "text": [
      "[['trẻ em'], ['mọi lứa tuổi'], ['trẻ em', 'mọi lứa tuổi'], ['trẻ em', 'mọi lứa tuổi'], ['mọi lứa tuổi'], ['cao tuổi', 'mọi lứa tuổi'], ['trẻ em', 'mọi lứa tuổi'], ['cao tuổi', 'mọi lứa tuổi'], ['trẻ em', 'mọi lứa tuổi'], ['trẻ em', 'cao tuổi', 'mọi lứa tuổi'], ['thiếu niên'], ['mọi lứa tuổi'], ['mọi lứa tuổi'], ['thiếu niên'], ['mọi lứa tuổi'], ['thanh niên'], ['mọi lứa tuổi'], ['cao tuổi', 'mọi lứa tuổi'], ['trung niên'], ['cao tuổi', 'mọi lứa tuổi'], ['thanh niên']]\n"
     ]
    }
   ],
   "source": [
    "AGE_RF = {\n",
    "    \"trẻ em\" : [\"trẻ em\"], # 0 - 10\n",
    "    \"thiếu niên\" : [\"thiếu niên\"], # 11 - 18\n",
    "    \"thanh niên\" : [\"thanh niên\"], # 18 - 40\n",
    "    \"trung niên\" : [\"trung niên\"], # 40-65\n",
    "    \"cao tuổi\": [\"cao tuổi\",\"tuổi cao\", \"65 tuổi\"], # > 65\n",
    "    \"mọi lứa tuổi\": [\"mọi lứa tuổi\",'tuổi']\n",
    "}\n",
    "\n",
    "cnt = 0\n",
    "a = []\n",
    "for ent in age_entities:\n",
    "    tmp = []\n",
    "    for age, v in AGE_RF.items():\n",
    "        for synonym in v:\n",
    "            if ent.lower().find(synonym) != -1:\n",
    "                tmp.append(age)\n",
    "                break\n",
    "    a.append(tmp)\n",
    "    if tmp == []:\n",
    "        print(ent)\n",
    "print(a) # If print --> not cover 100%"
   ]
  },
  {
   "cell_type": "code",
   "execution_count": 120,
   "metadata": {},
   "outputs": [
    {
     "data": {
      "text/plain": [
       "['Những bệnh nhân có tiền sử bị thủy đậu',\n",
       " 'Tiền sử bị chóng mặt',\n",
       " 'Gia đình có người từng có tiền sử mắc bệnh Alzheimer',\n",
       " 'Có tiền sử hoặc đang mắc các bệnh về gan',\n",
       " 'Tiền sử đột quỵ cũ Bệnh nhân có tiền sử đột quỵ cũ có nhiều nguy cơ tái phát',\n",
       " 'Có tiền sử mắc các bệnh lý về tuyến giáp như nhiễm trùng',\n",
       " 'Dị ứng và hen Những người có tiền sử gia đình hoặc cá nhân bị bệnh chàm',\n",
       " 'Người có tiền sử viêm nhiễm các cơ quan lân cận với xoang Viêm mũi',\n",
       " 'Người có tiền sử gia đình có người bị sỏi thận',\n",
       " 'Tiền sử đã từng ăn cá sống ở vùng dịch tễ',\n",
       " 'Người có tiền sử mắc các bệnh viêm nhiễm đại tràng mãn tính như viêm loét đại tràng chảy máu']"
      ]
     },
     "execution_count": 120,
     "metadata": {},
     "output_type": "execute_result"
    }
   ],
   "source": [
    "ph_entities"
   ]
  },
  {
   "cell_type": "code",
   "execution_count": null,
   "metadata": {},
   "outputs": [],
   "source": [
    "FH_RF = [\n",
    "    \"gia đình\",\n",
    "    \"tiền sử\"\n",
    "]\n",
    "\n",
    "cnt = 0\n",
    "for ent in rf_entites:\n",
    "    for prf in FH_RF:\n",
    "        if ent.lower().find(prf) != -1:\n",
    "            print(ent)\n",
    "            cnt += 1\n",
    "            break\n",
    "print(cnt)"
   ]
  }
 ],
 "metadata": {
  "kernelspec": {
   "display_name": "Python 3 (ipykernel)",
   "language": "python",
   "name": "python3"
  },
  "language_info": {
   "codemirror_mode": {
    "name": "ipython",
    "version": 3
   },
   "file_extension": ".py",
   "mimetype": "text/x-python",
   "name": "python",
   "nbconvert_exporter": "python",
   "pygments_lexer": "ipython3",
   "version": "3.9.7"
  }
 },
 "nbformat": 4,
 "nbformat_minor": 4
}
