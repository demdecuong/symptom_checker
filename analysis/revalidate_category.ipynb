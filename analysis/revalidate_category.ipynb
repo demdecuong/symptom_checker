{
 "cells": [
  {
   "cell_type": "code",
   "execution_count": 1,
   "metadata": {},
   "outputs": [],
   "source": [
    "import pandas as pd\n",
    "\n",
    "data = pd.read_csv('../data/symptoms_category.csv')"
   ]
  },
  {
   "cell_type": "code",
   "execution_count": 2,
   "metadata": {},
   "outputs": [],
   "source": [
    "name = data['name'].tolist()"
   ]
  },
  {
   "cell_type": "code",
   "execution_count": 11,
   "metadata": {},
   "outputs": [
    {
     "name": "stdout",
     "output_type": "stream",
     "text": [
      "Ho thường xuyên 64\n",
      "Ho ra máu 15\n",
      "Ho nhẹ 144\n",
      "Ho ông ổng 160\n",
      "Hoa mắt 109\n",
      "Hoảng loạn 80\n",
      "Ho khan 191\n",
      "Ho kéo dài 196\n",
      "Ho mãn tính 205\n",
      "Ho ở trẻ em 90\n",
      "Ho 191\n",
      "Ho ở người lớn 9\n",
      "Ho có đờm 77\n"
     ]
    }
   ],
   "source": [
    "for n in name:\n",
    "    if \"Ho\" in n:\n",
    "        print(n, data.loc[data['name']==n,'category'].item())"
   ]
  },
  {
   "cell_type": "code",
   "execution_count": 14,
   "metadata": {},
   "outputs": [],
   "source": [
    "a = [\n",
    "    'Ho thường xuyên',\n",
    "    'Ho ra máu',\n",
    "    'Ho nhẹ',\n",
    "    'Ho khan',\n",
    "    'Ho kéo dài',\n",
    "    'Ho mãn tính',\n",
    "    'Ho',\n",
    "    'Ho có đờm']\n",
    "# 205\n",
    "for item in a:\n",
    "    data.loc[data['name']==item,'category'] = 205"
   ]
  },
  {
   "cell_type": "code",
   "execution_count": 13,
   "metadata": {},
   "outputs": [
    {
     "name": "stdout",
     "output_type": "stream",
     "text": [
      "Sốt cao 5\n",
      "Sốt nhẹ 42\n",
      "Sốt 119\n",
      "Sốt ở trẻ sơ sinh và trẻ em 81\n",
      "Sốt tăng dần 5\n",
      "Sốt kéo dài 196\n",
      "Sốt mạn tính 241\n"
     ]
    }
   ],
   "source": [
    "for n in name:\n",
    "    if \"Sốt\" in n:\n",
    "        print(n, data.loc[data['name']==n,'category'].item())"
   ]
  },
  {
   "cell_type": "code",
   "execution_count": 15,
   "metadata": {},
   "outputs": [],
   "source": [
    "a = [\n",
    "    'Sốt cao',\n",
    "    'Sốt nhẹ',\n",
    "    'Sốt',\n",
    "    'Sốt ở trẻ sơ sinh và trẻ em'\n",
    "    'Sốt tăng dần',\n",
    "    'Sốt kéo dài',\n",
    "    'Sốt mạn tính'\n",
    "]\n",
    "# , 241'\n",
    "for item in a:\n",
    "    data.loc[data['name']==item,'category'] = 241"
   ]
  },
  {
   "cell_type": "code",
   "execution_count": null,
   "metadata": {},
   "outputs": [],
   "source": [
    "SYMPTOM_CATEGORY = {\n",
    "    \"Ho\" : {\n",
    "        \"symptom_period\" : {\n",
    "            \"question\" : \"Bạn bị bao lâu rồi ?\",\n",
    "            \"choices\": {\n",
    "                \"< 1 day\" : \"Ho nhẹ\",\n",
    "                \"1 tuần\" : \"Ho thường xuyên\",\n",
    "                \"1 tháng\": \"Ho kéo dài\",\n",
    "                \"> 1 tháng\": []\n",
    "            }\n",
    "        },\n",
    "        \"related_symptoms\" : [\"Ho mãn tính\",\"Ho có đờm\",\"Ho ra máu\",\"Ho khan\"],\n",
    "    },\n",
    "    \"Sốt\" : {\n",
    "        \"symptom_period\" : {\n",
    "            \"question\" : \"Bạn bị bao lâu rồi ?\" ,\n",
    "            \"choices\": {\n",
    "                \"< 1 day\" : \"Sốt\",\n",
    "                \"1 tuần\" : \"Sốt kéo dài\",\n",
    "                \"1 tháng\": \"Sốt kéo dài\",\n",
    "                \"> 1 tháng\": \"Sốt kéo dài\",\n",
    "            }\n",
    "        },\n",
    "        \"severity_question\": {\n",
    "            \"question\" : \"Hãy đánh giá mức độ sốt của bạn\",\n",
    "            \"choices\" : {\n",
    "                \"37.5 - 38 độ\" : \"Sốt nhẹ\",\n",
    "                \"> 38 độ C\" : \"Sốt cao\",\n",
    "            }\n",
    "        },\n",
    "        \"related_symptoms\" : [\"Sốt tăng dần\",\"Sốt mạn tính\"]  \n",
    "    }\n",
    "}"
   ]
  },
  {
   "cell_type": "code",
   "execution_count": 16,
   "metadata": {},
   "outputs": [],
   "source": [
    "data.to_csv('../data/symptoms_category.csv')"
   ]
  },
  {
   "cell_type": "code",
   "execution_count": null,
   "metadata": {},
   "outputs": [],
   "source": []
  }
 ],
 "metadata": {
  "kernelspec": {
   "display_name": "Python 3",
   "language": "python",
   "name": "python3"
  },
  "language_info": {
   "codemirror_mode": {
    "name": "ipython",
    "version": 3
   },
   "file_extension": ".py",
   "mimetype": "text/x-python",
   "name": "python",
   "nbconvert_exporter": "python",
   "pygments_lexer": "ipython3",
   "version": "3.8.3"
  }
 },
 "nbformat": 4,
 "nbformat_minor": 4
}
